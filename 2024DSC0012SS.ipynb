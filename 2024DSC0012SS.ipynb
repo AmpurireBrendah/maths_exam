{
 "cells": [
  {
   "cell_type": "markdown",
   "id": "6aba786d-6299-411d-90a1-be0522f9e42b",
   "metadata": {},
   "source": [
    "QUESTION 5"
   ]
  },
  {
   "cell_type": "code",
   "execution_count": 1,
   "id": "04667b2e-8303-485a-84ce-c10c1ff01f4c",
   "metadata": {},
   "outputs": [],
   "source": [
    "import numpy as np"
   ]
  },
  {
   "cell_type": "code",
   "execution_count": 2,
   "id": "560b8792-c06f-4d40-a74b-381fba75d4dd",
   "metadata": {},
   "outputs": [],
   "source": [
    "import matplotlib.pyplot as plt"
   ]
  },
  {
   "cell_type": "code",
   "execution_count": 3,
   "id": "aae3453f-a5e3-4931-8da8-0b786f5f9a5d",
   "metadata": {},
   "outputs": [],
   "source": [
    "import seaborn as sns\n"
   ]
  },
  {
   "cell_type": "markdown",
   "id": "495f2a61-f21d-41c6-84d4-45ae4cb3a662",
   "metadata": {},
   "source": [
    "(i)"
   ]
  },
  {
   "cell_type": "code",
   "execution_count": 4,
   "id": "9ab3839e-2d49-4c99-91c3-9eb386eb47fb",
   "metadata": {},
   "outputs": [
    {
     "name": "stdout",
     "output_type": "stream",
     "text": [
      "[[1.  0.2 0.5]\n",
      " [0.2 1.  0.8]\n",
      " [0.5 0.8 1. ]]\n"
     ]
    }
   ],
   "source": [
    "Matrix=np.array([[1,0.2,0.5],[0.2,1,0.8],[0.5,0.8,1]])\n",
    "print(Matrix)"
   ]
  },
  {
   "cell_type": "code",
   "execution_count": 5,
   "id": "0ac0f2ae-5c75-4e07-a781-b6dc62edc74c",
   "metadata": {},
   "outputs": [
    {
     "name": "stdout",
     "output_type": "stream",
     "text": [
      "[[1.  0.2 0.5]\n",
      " [0.2 1.  0.8]\n",
      " [0.5 0.8 1. ]]\n"
     ]
    }
   ],
   "source": [
    "new_matrix=np.transpose(Matrix)\n",
    "print(new_matrix)"
   ]
  },
  {
   "cell_type": "markdown",
   "id": "913c5aff-f7d3-4646-8fcc-cef94d535ad8",
   "metadata": {},
   "source": [
    "(ii)"
   ]
  },
  {
   "cell_type": "code",
   "execution_count": 6,
   "id": "275f9654-1d5a-4a41-810c-326ceb7c8c85",
   "metadata": {},
   "outputs": [
    {
     "name": "stdout",
     "output_type": "stream",
     "text": [
      "0.2299999999999999\n"
     ]
    }
   ],
   "source": [
    "det_matrix=np.linalg.det(Matrix)\n",
    "print(det_matrix)"
   ]
  },
  {
   "cell_type": "markdown",
   "id": "0120e534-ecd4-431a-b0b0-3f3b259204ea",
   "metadata": {},
   "source": [
    "(iii)"
   ]
  },
  {
   "cell_type": "code",
   "execution_count": 7,
   "id": "529340d8-e728-4b8d-928b-309595bc7ffa",
   "metadata": {},
   "outputs": [
    {
     "name": "stdout",
     "output_type": "stream",
     "text": [
      "SVDResult(U=array([[-0.43721717,  0.85359707, -0.28321933],\n",
      "       [-0.59931898, -0.51133314, -0.61591816],\n",
      "       [-0.67056536, -0.09955128,  0.73514055]]), S=array([2.04100779, 0.82188052, 0.13711169]), Vh=array([[-0.43721717, -0.59931898, -0.67056536],\n",
      "       [ 0.85359707, -0.51133314, -0.09955128],\n",
      "       [-0.28321933, -0.61591816,  0.73514055]]))\n"
     ]
    }
   ],
   "source": [
    "decomposed_matrix=np.linalg.svd(Matrix)\n",
    "print(decomposed_matrix)"
   ]
  },
  {
   "cell_type": "markdown",
   "id": "9b7266fd-aa37-482e-b8be-4b141f90f803",
   "metadata": {},
   "source": [
    "(iv)"
   ]
  },
  {
   "cell_type": "code",
   "execution_count": 8,
   "id": "f34c8916-1b29-4467-b362-41752d8a31af",
   "metadata": {},
   "outputs": [
    {
     "name": "stdout",
     "output_type": "stream",
     "text": [
      "[[ 1.56521739  0.86956522 -1.47826087]\n",
      " [ 0.86956522  3.26086957 -3.04347826]\n",
      " [-1.47826087 -3.04347826  4.17391304]]\n"
     ]
    }
   ],
   "source": [
    "matrix=np.linalg.inv(Matrix)\n",
    "print(matrix)"
   ]
  },
  {
   "cell_type": "code",
   "execution_count": null,
   "id": "1f9d0cd0-b1f3-42a7-b1b3-93b565659a17",
   "metadata": {},
   "outputs": [],
   "source": []
  },
  {
   "cell_type": "markdown",
   "id": "df61d8ea-df94-4f16-a015-b7b08f0519dd",
   "metadata": {},
   "source": [
    "QUESTION 6"
   ]
  },
  {
   "cell_type": "code",
   "execution_count": 9,
   "id": "b6b52484-bb5d-4329-bf3e-c06232d7881e",
   "metadata": {},
   "outputs": [],
   "source": [
    "from numpy import random"
   ]
  },
  {
   "cell_type": "markdown",
   "id": "3be1318e-9f9d-427e-bccb-2176b06820ed",
   "metadata": {},
   "source": [
    "(i)"
   ]
  },
  {
   "cell_type": "code",
   "execution_count": 10,
   "id": "f79da038-f669-4ffe-9400-db5be47d9df9",
   "metadata": {},
   "outputs": [
    {
     "data": {
      "text/plain": [
       "array([ 7,  3,  2,  7,  2,  5,  3,  4,  5,  7,  6,  1,  5,  3,  5,  5,  7,\n",
       "        5,  3,  4,  5,  3,  6,  7,  2,  6,  4,  6,  6,  4,  4,  2,  3,  4,\n",
       "        6,  5,  2,  4,  5,  3,  5,  6,  4,  3,  2,  5,  2,  4,  7,  4,  6,\n",
       "        3,  5,  4,  1,  1,  2,  5,  6,  9,  6,  6,  4,  3,  6,  4,  7,  6,\n",
       "        5,  4,  3,  5,  4,  4,  3,  2,  6,  9, 10,  5,  2,  5,  4,  5,  3,\n",
       "        6,  7,  6,  3,  3, 10,  4,  1,  5,  2, 10,  3,  5,  7,  7,  4,  4,\n",
       "        5,  6,  8,  5,  4,  5,  5,  8,  8,  4,  6,  8,  3,  3,  6,  5,  8,\n",
       "        5,  0,  5,  5,  3,  5,  3,  8,  7,  9,  4,  3,  8,  3,  4,  4,  1,\n",
       "       11,  4,  7,  6,  6,  5,  2,  6,  1,  5,  5,  5,  0,  6,  3,  3,  3,\n",
       "        5,  9,  5,  4,  3,  6,  6,  6,  6,  5,  5, 10,  3,  3,  9,  4,  4,\n",
       "        3,  2,  1,  8,  6,  5,  4,  4,  7,  2,  6,  2,  3, 10,  7,  7,  8,\n",
       "        2,  3,  1,  1,  3,  6,  4,  8,  2,  2,  7,  8,  2,  5,  2,  5,  8,\n",
       "        2,  7,  9,  6,  3,  4,  5,  4,  2,  3,  7,  4,  6,  5,  5,  4,  7,\n",
       "        4,  8,  3,  4,  3,  6,  5,  3,  6,  1,  9,  4,  4,  4,  6,  6,  8,\n",
       "        3,  7,  7, 11,  6,  6,  5,  5,  4,  1,  1,  5,  1,  5,  5,  5,  9,\n",
       "        7,  3,  6,  9,  4,  4,  2,  6,  6,  2,  4,  6,  2,  7,  1,  6,  3,\n",
       "        9,  4,  6,  5,  4,  3,  5,  8,  5,  7,  2,  4,  5,  6,  6,  4,  5,\n",
       "        4,  9,  4,  4,  4,  8,  3,  1,  4,  4,  4,  1,  6,  9,  8,  6,  7,\n",
       "        9,  5,  6,  6,  4,  8,  6,  3,  6,  4,  6,  3,  2,  7,  4,  4,  3,\n",
       "        5,  8,  7,  4,  3,  3,  6,  5,  2,  8,  5,  3,  7,  7,  5,  5, 10,\n",
       "        6,  6,  2,  3,  9,  5,  6,  5,  6,  8,  4,  5,  3,  6,  5,  5,  4,\n",
       "        1,  7,  5,  7,  6,  1,  7,  8,  4,  6,  5,  5,  7,  5,  4,  3,  5,\n",
       "        7,  7,  7,  7,  3,  5,  3,  6,  3, 12,  4,  4,  4,  7,  5, 10,  7,\n",
       "        3,  5,  5,  8,  7,  5,  6,  1,  9,  5,  4,  7,  7,  4,  5,  8,  6,\n",
       "        5,  6,  3,  8,  4,  8,  6,  7,  5,  6,  4,  2,  3,  3,  4,  3, 10,\n",
       "        3,  3,  6,  1,  6,  6,  3,  4,  4,  7,  8,  4,  8,  4,  4,  6,  6,\n",
       "        7,  3,  5,  6,  6,  5,  3,  6,  5,  5,  8,  6,  7,  6,  7,  2,  1,\n",
       "        3,  7,  5,  5,  7,  5,  9,  2,  3,  4,  4,  8,  6,  9,  2,  6,  8,\n",
       "        6,  6, 10,  6,  6,  8,  5,  6,  5,  5,  5,  6,  7,  7,  7,  5,  5,\n",
       "        7,  3,  5,  8,  3,  2,  4,  4,  2,  5,  4,  1,  9,  4,  5,  5,  9,\n",
       "        8,  2,  5,  6,  9,  5,  3,  1,  5,  8,  9,  2,  4,  4,  9,  6,  4,\n",
       "        3,  7,  2,  3,  2,  6,  5,  5,  6,  7,  8,  5,  4,  9,  3,  2,  5,\n",
       "        4,  6,  7,  5,  7,  1,  6,  8,  4,  8,  2,  6,  8,  4,  6,  6,  6,\n",
       "       13,  4,  2,  4,  4,  1,  4,  3,  2,  4,  5,  6,  6,  1,  6,  4,  2,\n",
       "        5,  7,  1,  8,  4,  5, 11,  5,  6,  5,  7,  8,  5,  7,  6,  4,  4,\n",
       "        5,  1,  6,  2,  5,  3,  7,  7,  4,  3,  5,  7,  5,  4,  2,  4,  3,\n",
       "        4,  6,  8,  6,  7,  2,  6,  4,  3,  6,  4,  5,  3,  7,  4,  2,  9,\n",
       "        6,  4,  2, 13,  4,  1,  7, 10,  2,  6,  3,  4,  8,  2,  2,  4,  5,\n",
       "        4,  2,  4,  6,  5,  3,  5,  5,  4,  8,  4,  6,  8,  6,  1,  3,  3,\n",
       "        8,  2,  3,  7,  7,  2,  1,  2,  1,  5, 11,  6,  7,  7,  3,  5,  3,\n",
       "        4,  6,  5,  7,  7,  6,  7,  2,  9, 10,  5,  1,  4,  3,  5,  5,  7,\n",
       "        5,  4,  4,  5, 10,  6,  4, 10,  5,  2,  6,  7,  8,  4,  4,  3,  7,\n",
       "        8,  7,  4,  2,  3,  3,  6,  9,  3,  4,  6,  3,  5,  9,  4,  2,  9,\n",
       "        5,  3,  9,  2,  8,  4,  4,  7,  7,  4,  5,  4,  6,  7,  7,  2,  4,\n",
       "        3,  6,  5,  3,  4,  4, 12,  5,  7,  7,  7,  5,  4,  4,  2,  4,  7,\n",
       "        9,  6,  4,  6,  2,  6,  3,  6,  5,  5,  6,  6,  5,  7,  3,  2,  5,\n",
       "        9,  6,  5,  3,  6,  7,  3,  5,  1,  4,  4,  7,  2,  7,  3,  4,  4,\n",
       "        3,  5,  7,  4,  7,  2,  6,  6,  6,  7,  4,  4,  4,  4,  3,  7,  9,\n",
       "        5,  3,  7,  7,  4,  7,  7,  2,  9, 14,  2,  8,  5,  3,  9,  7,  5,\n",
       "        3,  6,  4,  6,  5,  3,  2,  5,  8,  4,  5,  5,  6,  3,  6,  6,  5,\n",
       "        6,  6,  5,  4,  7,  5,  1,  3,  3,  2,  3,  5,  5,  2,  7,  5, 11,\n",
       "        5,  4,  7,  6,  3,  6,  5,  6,  3,  9,  4,  5,  7,  3,  6,  4,  4,\n",
       "        2,  4,  5, 12,  7,  5,  6,  8,  6,  4,  5, 12,  2,  5,  7,  2,  5,\n",
       "        6,  7,  6,  3,  6,  4,  9,  5,  7,  4,  5,  5,  3,  6,  7,  7,  4,\n",
       "       10,  4,  6, 12,  7,  7,  5,  3,  5,  5,  6,  5,  6,  9,  4,  4,  4,\n",
       "        3,  2,  7,  7,  4,  2, 11,  4,  5,  8,  7,  7,  6,  3,  8,  6,  7,\n",
       "        3,  2,  2,  6,  9,  5, 10,  6,  3,  7,  6,  2,  7,  7, 11,  6,  4,\n",
       "        4,  7,  5,  5,  2,  7,  3,  3, 10,  6,  8,  2,  2,  2,  3,  4,  9,\n",
       "        4,  4,  3,  5,  5,  2,  3,  6,  4,  6, 10,  2,  3,  5],\n",
       "      dtype=int32)"
      ]
     },
     "execution_count": 10,
     "metadata": {},
     "output_type": "execute_result"
    }
   ],
   "source": [
    "number_of_customer_arrival=random.poisson(lam=5,size=1000)\n",
    "number_of_customer_arrival"
   ]
  },
  {
   "cell_type": "markdown",
   "id": "b6b3c60d-21b6-44ab-b3a0-923ff8591f5d",
   "metadata": {},
   "source": [
    "(ii)"
   ]
  },
  {
   "cell_type": "code",
   "execution_count": 11,
   "id": "b58be070-3714-471e-af15-bf193be401cb",
   "metadata": {},
   "outputs": [
    {
     "name": "stdout",
     "output_type": "stream",
     "text": [
      "5.079\n"
     ]
    }
   ],
   "source": [
    "data_mean=np.mean(number_of_customer_arrival)\n",
    "print(data_mean)"
   ]
  },
  {
   "cell_type": "code",
   "execution_count": 12,
   "id": "e94e2ac6-f335-47fe-87ff-3cdd8b996a6a",
   "metadata": {},
   "outputs": [
    {
     "name": "stdout",
     "output_type": "stream",
     "text": [
      "4.936759\n"
     ]
    }
   ],
   "source": [
    "data_variance=np.var(number_of_customer_arrival)\n",
    "print(data_variance)"
   ]
  },
  {
   "cell_type": "markdown",
   "id": "8aa30a99-24e5-428b-8e0b-11a1bbf82ccc",
   "metadata": {},
   "source": [
    "(iii)"
   ]
  },
  {
   "cell_type": "code",
   "execution_count": 13,
   "id": "0cd9945c-6e61-4ccb-b9f4-8832bedc07cb",
   "metadata": {},
   "outputs": [
    {
     "data": {
      "image/png": "[encoded data removed]",
      "text/plain": [
       "<Figure size 640x480 with 1 Axes>"
      ]
     },
     "metadata": {},
     "output_type": "display_data"
    }
   ],
   "source": [
    "\n",
    "sns.histplot(number_of_customer_arrival,bins=20,kde=False,color=\"blue\")\n",
    "plt.title(\"A histogram of samples to visualize distribution\")\n",
    "plt.show()"
   ]
  },
  {
   "cell_type": "code",
   "execution_count": null,
   "id": "0ce5203a-64b8-4762-8849-0161999f8444",
   "metadata": {},
   "outputs": [],
   "source": []
  },
  {
   "cell_type": "code",
   "execution_count": null,
   "id": "fe532247-742d-44d2-91a9-2ff8fb9170e4",
   "metadata": {},
   "outputs": [],
   "source": []
  },
  {
   "cell_type": "code",
   "execution_count": null,
   "id": "7835095e-f13d-4f06-80e8-bbfa844342ee",
   "metadata": {},
   "outputs": [],
   "source": []
  }
 ],
 "metadata": {
  "kernelspec": {
   "display_name": "Python 3 (ipykernel)",
   "language": "python",
   "name": "python3"
  },
  "language_info": {
   "codemirror_mode": {
    "name": "ipython",
    "version": 3
   },
   "file_extension": ".py",
   "mimetype": "text/x-python",
   "name": "python",
   "nbconvert_exporter": "python",
   "pygments_lexer": "ipython3",
   "version": "3.12.7"
  }
 },
 "nbformat": 4,
 "nbformat_minor": 5
}
